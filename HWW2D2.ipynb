{
 "cells": [
  {
   "cell_type": "markdown",
   "id": "608de87f",
   "metadata": {},
   "source": [
    "1) Build a Shopping Cart\n",
    "Should have the following capabilities:\n",
    "\n",
    "1) Takes in input\n",
    "2) Stores user input into a list\n",
    "3) User can add or delete items\n",
    "4) User can see current shopping list\n",
    "5) Loops until user 'quits'\n",
    "6) Upon quiting the program, print out all items in the user's list\n"
   ]
  },
  {
   "cell_type": "code",
   "execution_count": 22,
   "id": "63dd3a0d",
   "metadata": {},
   "outputs": [
    {
     "name": "stdout",
     "output_type": "stream",
     "text": [
      "Type 'add' to add new item to your bag.\n",
      "Type 'remove' to remove the last item from your bag\n",
      "Type 'quit' to exit the program.\n",
      "Type 'show' to list all items in your cart\n",
      "What is your choice? quit\n",
      "{'Cat': '5000'}\n",
      "{'Helmet': '20'}\n",
      "Are are you sure you want to quit? Y/N? y\n"
     ]
    }
   ],
   "source": [
    "from IPython.display import clear_output as co\n",
    "\n",
    "def show_instructions():\n",
    "    print(\"\"\"Type 'add' to add new item to your bag.\n",
    "Type 'remove' to remove the last item from your bag\n",
    "Type 'quit' to exit the program.\n",
    "Type 'show' to list all items in your cart\"\"\")\n",
    "\n",
    "def shopping_cart():\n",
    "    input('Welcome to your Shopping Cart! Press any key to continue ')\n",
    "    \n",
    "    done = False\n",
    "    info = []\n",
    "    \n",
    "    while not done:\n",
    "        co()\n",
    "        \n",
    "        show_instructions()\n",
    "        choice = input('What is your choice? ')\n",
    "        \n",
    "        if choice == 'add':\n",
    "            item = input(\"Type in the item you wish to purchase. \").title()\n",
    "            price =  input(\"Type in the items price. \").title()\n",
    "            \n",
    "            cart_dict = {\n",
    "                item : price\n",
    "            }\n",
    "            \n",
    "            info.append(cart_dict)\n",
    "            \n",
    "        elif choice == 'show':\n",
    "            for item in info:\n",
    "                print(item)\n",
    "            input('Press any key continue')\n",
    "            \n",
    "        elif choice == 'quit':\n",
    "            for item in info:\n",
    "                print(item)\n",
    "            confirm = input('Are are you sure you want to quit? Y/N? ').lower()\n",
    "            if confirm == 'y':\n",
    "                done = True\n",
    "            elif confirm == 'n':\n",
    "                continue\n",
    "        \n",
    "        elif choice == 'remove':\n",
    "            removed = input('Type in the name of item to be removed? ').title()\n",
    "            info.pop()\n",
    "    \n",
    "shopping_cart()"
   ]
  },
  {
   "cell_type": "code",
   "execution_count": null,
   "id": "c2c9ebc4",
   "metadata": {},
   "outputs": [],
   "source": [
    "#QUESTION 2"
   ]
  },
  {
   "cell_type": "code",
   "execution_count": 20,
   "id": "482fcb93",
   "metadata": {},
   "outputs": [
    {
     "data": {
      "text/plain": [
       "1570.75"
      ]
     },
     "execution_count": 20,
     "metadata": {},
     "output_type": "execute_result"
    }
   ],
   "source": [
    "from calc import square_ft, circumf\n",
    "\n",
    "\n",
    "#takes diameter as argument\n",
    "\n",
    "circumf(500)"
   ]
  },
  {
   "cell_type": "code",
   "execution_count": 21,
   "id": "9d367880",
   "metadata": {},
   "outputs": [
    {
     "data": {
      "text/plain": [
       "15000"
      ]
     },
     "execution_count": 21,
     "metadata": {},
     "output_type": "execute_result"
    }
   ],
   "source": [
    "#takes 2 dimensions\n",
    "\n",
    "square_ft(300, 50)\n"
   ]
  }
 ],
 "metadata": {
  "kernelspec": {
   "display_name": "Python 3",
   "language": "python",
   "name": "python3"
  },
  "language_info": {
   "codemirror_mode": {
    "name": "ipython",
    "version": 3
   },
   "file_extension": ".py",
   "mimetype": "text/x-python",
   "name": "python",
   "nbconvert_exporter": "python",
   "pygments_lexer": "ipython3",
   "version": "3.9.5"
  }
 },
 "nbformat": 4,
 "nbformat_minor": 5
}
